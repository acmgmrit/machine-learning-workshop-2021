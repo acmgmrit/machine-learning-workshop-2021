{
 "cells": [
  {
   "cell_type": "markdown",
   "id": "2e5c40d7",
   "metadata": {},
   "source": [
    "<div style=\"background-color:lightgreen;padding:10px;border-radius:5px;\">\n",
    "<center><h1>LOGISTIC REGRESSION</h1></center>\n",
    "<hr>\n",
    "<p style=\"font-size: 18px;\"><b>PROBLEM STATEMENT:</b> Predict whether the student will pass the exam or fail</p>\n",
    "<p><b>About Attributes:</b></p>\n",
    "<ol>\n",
    "<li><b>Self_Study_Daily: </b>Indicates how many hours the student studies daily at home</li>\n",
    "<li><b>Tution_Monthly: </b>Indicates how many hours per month the student is taking private tutor classes</li>\n",
    "<li><b>TPass_Or_Fail: </b>1 indicates student will pass and 0 indicates student will fail</li>\n",
    "</ol>\n",
    "</div>"
   ]
  },
  {
   "cell_type": "code",
   "execution_count": 1,
   "id": "067a0f47",
   "metadata": {},
   "outputs": [],
   "source": [
    "# importing necessary libraries\n",
    "import numpy as np\n",
    "import pandas as pd\n",
    "import matplotlib.pyplot as plt\n",
    "import seaborn as sns\n",
    "\n",
    "from sklearn.model_selection import train_test_split\n",
    "\n",
    "from sklearn.preprocessing import StandardScaler\n",
    "\n",
    "from sklearn.linear_model import LogisticRegression\n",
    "\n",
    "from sklearn.metrics import accuracy_score, confusion_matrix, classification_report"
   ]
  },
  {
   "cell_type": "markdown",
   "id": "c9abc926",
   "metadata": {},
   "source": [
    "## Loading and Exploring the dataset"
   ]
  },
  {
   "cell_type": "code",
   "execution_count": 2,
   "id": "67f9bb0a",
   "metadata": {},
   "outputs": [
    {
     "data": {
      "text/html": [
       "<div>\n",
       "<style scoped>\n",
       "    .dataframe tbody tr th:only-of-type {\n",
       "        vertical-align: middle;\n",
       "    }\n",
       "\n",
       "    .dataframe tbody tr th {\n",
       "        vertical-align: top;\n",
       "    }\n",
       "\n",
       "    .dataframe thead th {\n",
       "        text-align: right;\n",
       "    }\n",
       "</style>\n",
       "<table border=\"1\" class=\"dataframe\">\n",
       "  <thead>\n",
       "    <tr style=\"text-align: right;\">\n",
       "      <th></th>\n",
       "      <th>Self_Study_Daily</th>\n",
       "      <th>Tution_Monthly</th>\n",
       "      <th>Pass_Or_Fail</th>\n",
       "    </tr>\n",
       "  </thead>\n",
       "  <tbody>\n",
       "    <tr>\n",
       "      <th>0</th>\n",
       "      <td>7</td>\n",
       "      <td>27</td>\n",
       "      <td>1</td>\n",
       "    </tr>\n",
       "    <tr>\n",
       "      <th>1</th>\n",
       "      <td>2</td>\n",
       "      <td>43</td>\n",
       "      <td>0</td>\n",
       "    </tr>\n",
       "    <tr>\n",
       "      <th>2</th>\n",
       "      <td>7</td>\n",
       "      <td>26</td>\n",
       "      <td>1</td>\n",
       "    </tr>\n",
       "    <tr>\n",
       "      <th>3</th>\n",
       "      <td>8</td>\n",
       "      <td>29</td>\n",
       "      <td>1</td>\n",
       "    </tr>\n",
       "    <tr>\n",
       "      <th>4</th>\n",
       "      <td>3</td>\n",
       "      <td>42</td>\n",
       "      <td>0</td>\n",
       "    </tr>\n",
       "  </tbody>\n",
       "</table>\n",
       "</div>"
      ],
      "text/plain": [
       "   Self_Study_Daily  Tution_Monthly  Pass_Or_Fail\n",
       "0                 7              27             1\n",
       "1                 2              43             0\n",
       "2                 7              26             1\n",
       "3                 8              29             1\n",
       "4                 3              42             0"
      ]
     },
     "execution_count": 2,
     "metadata": {},
     "output_type": "execute_result"
    }
   ],
   "source": [
    "# loading the data using read_csv function from pandas library\n",
    "data = pd.read_csv(\"datasets/student_data.csv\")\n",
    "data.head()"
   ]
  },
  {
   "cell_type": "code",
   "execution_count": 3,
   "id": "37082db2",
   "metadata": {},
   "outputs": [
    {
     "data": {
      "text/plain": [
       "(1000, 3)"
      ]
     },
     "execution_count": 3,
     "metadata": {},
     "output_type": "execute_result"
    }
   ],
   "source": [
    "data.shape"
   ]
  },
  {
   "cell_type": "code",
   "execution_count": 4,
   "id": "b5212c03",
   "metadata": {},
   "outputs": [
    {
     "name": "stdout",
     "output_type": "stream",
     "text": [
      "<class 'pandas.core.frame.DataFrame'>\n",
      "RangeIndex: 1000 entries, 0 to 999\n",
      "Data columns (total 3 columns):\n",
      " #   Column            Non-Null Count  Dtype\n",
      "---  ------            --------------  -----\n",
      " 0   Self_Study_Daily  1000 non-null   int64\n",
      " 1   Tution_Monthly    1000 non-null   int64\n",
      " 2   Pass_Or_Fail      1000 non-null   int64\n",
      "dtypes: int64(3)\n",
      "memory usage: 23.6 KB\n"
     ]
    }
   ],
   "source": [
    "data.info()"
   ]
  },
  {
   "cell_type": "code",
   "execution_count": 5,
   "id": "4d407958",
   "metadata": {},
   "outputs": [
    {
     "data": {
      "text/html": [
       "<div>\n",
       "<style scoped>\n",
       "    .dataframe tbody tr th:only-of-type {\n",
       "        vertical-align: middle;\n",
       "    }\n",
       "\n",
       "    .dataframe tbody tr th {\n",
       "        vertical-align: top;\n",
       "    }\n",
       "\n",
       "    .dataframe thead th {\n",
       "        text-align: right;\n",
       "    }\n",
       "</style>\n",
       "<table border=\"1\" class=\"dataframe\">\n",
       "  <thead>\n",
       "    <tr style=\"text-align: right;\">\n",
       "      <th></th>\n",
       "      <th>Self_Study_Daily</th>\n",
       "      <th>Tution_Monthly</th>\n",
       "      <th>Pass_Or_Fail</th>\n",
       "    </tr>\n",
       "  </thead>\n",
       "  <tbody>\n",
       "    <tr>\n",
       "      <th>count</th>\n",
       "      <td>1000.000000</td>\n",
       "      <td>1000.000000</td>\n",
       "      <td>1000.000000</td>\n",
       "    </tr>\n",
       "    <tr>\n",
       "      <th>mean</th>\n",
       "      <td>5.744000</td>\n",
       "      <td>31.230000</td>\n",
       "      <td>0.499000</td>\n",
       "    </tr>\n",
       "    <tr>\n",
       "      <th>std</th>\n",
       "      <td>2.121076</td>\n",
       "      <td>5.976355</td>\n",
       "      <td>0.500249</td>\n",
       "    </tr>\n",
       "    <tr>\n",
       "      <th>min</th>\n",
       "      <td>0.000000</td>\n",
       "      <td>20.000000</td>\n",
       "      <td>0.000000</td>\n",
       "    </tr>\n",
       "    <tr>\n",
       "      <th>25%</th>\n",
       "      <td>4.000000</td>\n",
       "      <td>26.000000</td>\n",
       "      <td>0.000000</td>\n",
       "    </tr>\n",
       "    <tr>\n",
       "      <th>50%</th>\n",
       "      <td>6.000000</td>\n",
       "      <td>30.000000</td>\n",
       "      <td>0.000000</td>\n",
       "    </tr>\n",
       "    <tr>\n",
       "      <th>75%</th>\n",
       "      <td>7.000000</td>\n",
       "      <td>36.000000</td>\n",
       "      <td>1.000000</td>\n",
       "    </tr>\n",
       "    <tr>\n",
       "      <th>max</th>\n",
       "      <td>10.000000</td>\n",
       "      <td>50.000000</td>\n",
       "      <td>1.000000</td>\n",
       "    </tr>\n",
       "  </tbody>\n",
       "</table>\n",
       "</div>"
      ],
      "text/plain": [
       "       Self_Study_Daily  Tution_Monthly  Pass_Or_Fail\n",
       "count       1000.000000     1000.000000   1000.000000\n",
       "mean           5.744000       31.230000      0.499000\n",
       "std            2.121076        5.976355      0.500249\n",
       "min            0.000000       20.000000      0.000000\n",
       "25%            4.000000       26.000000      0.000000\n",
       "50%            6.000000       30.000000      0.000000\n",
       "75%            7.000000       36.000000      1.000000\n",
       "max           10.000000       50.000000      1.000000"
      ]
     },
     "execution_count": 5,
     "metadata": {},
     "output_type": "execute_result"
    }
   ],
   "source": [
    "data.describe()"
   ]
  },
  {
   "cell_type": "code",
   "execution_count": 6,
   "id": "e10c2fbc",
   "metadata": {},
   "outputs": [
    {
     "data": {
      "image/png": "[encoded data removed]",
      "text/plain": [
       "<Figure size 432x288 with 1 Axes>"
      ]
     },
     "metadata": {
      "needs_background": "light"
     },
     "output_type": "display_data"
    }
   ],
   "source": [
    "data[\"Pass_Or_Fail\"].value_counts().plot(kind = \"bar\")\n",
    "plt.title(\"Checking for Imbalance in Data\")\n",
    "plt.show()"
   ]
  },
  {
   "cell_type": "code",
   "execution_count": 7,
   "id": "e24099c8",
   "metadata": {},
   "outputs": [
    {
     "data": {
      "image/png": "[encoded data removed]",
      "text/plain": [
       "<Figure size 432x288 with 1 Axes>"
      ]
     },
     "metadata": {
      "needs_background": "light"
     },
     "output_type": "display_data"
    }
   ],
   "source": [
    "plt.hist(data[\"Self_Study_Daily\"])\n",
    "plt.title(\"Distribution of Self_Study_Daily\")\n",
    "plt.show()"
   ]
  },
  {
   "cell_type": "code",
   "execution_count": 8,
   "id": "47de322a",
   "metadata": {},
   "outputs": [
    {
     "data": {
      "image/png": "[encoded data removed]",
      "text/plain": [
       "<Figure size 432x288 with 1 Axes>"
      ]
     },
     "metadata": {
      "needs_background": "light"
     },
     "output_type": "display_data"
    }
   ],
   "source": [
    "sns.histplot(data[\"Tution_Monthly\"])\n",
    "plt.title(\"Distribution of Tution_Monthly\")\n",
    "plt.show()"
   ]
  },
  {
   "cell_type": "code",
   "execution_count": 9,
   "id": "23b74b93",
   "metadata": {},
   "outputs": [],
   "source": [
    "X = data.iloc[:, :-1]\n",
    "y = data.loc[:, \"Pass_Or_Fail\"]"
   ]
  },
  {
   "cell_type": "code",
   "execution_count": 10,
   "id": "2889bd0a",
   "metadata": {},
   "outputs": [
    {
     "name": "stdout",
     "output_type": "stream",
     "text": [
      "Independent Data: (1000, 2)\n",
      "Dependent Data: (1000,)\n"
     ]
    }
   ],
   "source": [
    "print(f\"Independent Data: {X.shape}\")\n",
    "print(f\"Dependent Data: {y.shape}\")"
   ]
  },
  {
   "cell_type": "markdown",
   "id": "20bcdc91",
   "metadata": {},
   "source": [
    "## Splitting the Data"
   ]
  },
  {
   "cell_type": "code",
   "execution_count": 11,
   "id": "c4b9aef6",
   "metadata": {},
   "outputs": [
    {
     "name": "stdout",
     "output_type": "stream",
     "text": [
      "Train Data: (800, 2), (800,)\n",
      "Test Data: (200, 2), (200,)\n"
     ]
    }
   ],
   "source": [
    "X_train, X_test, y_train, y_test = train_test_split(X, y, test_size = 0.2, random_state = 24)\n",
    "print(f\"Train Data: {X_train.shape}, {y_train.shape}\")\n",
    "print(f\"Test Data: {X_test.shape}, {y_test.shape}\")"
   ]
  },
  {
   "cell_type": "code",
   "execution_count": 12,
   "id": "718aa33e",
   "metadata": {},
   "outputs": [
    {
     "data": {
      "text/plain": [
       "(array([[ 7, 25],\n",
       "        [ 7, 26],\n",
       "        [ 8, 28],\n",
       "        [ 5, 28],\n",
       "        [ 7, 25],\n",
       "        [ 4, 27],\n",
       "        [ 3, 33],\n",
       "        [ 7, 26],\n",
       "        [ 6, 26],\n",
       "        [ 8, 27]]),\n",
       " array([[ 6, 24],\n",
       "        [ 9, 30],\n",
       "        [ 7, 24],\n",
       "        [ 8, 28],\n",
       "        [ 2, 42],\n",
       "        [ 5, 21],\n",
       "        [ 9, 31],\n",
       "        [ 8, 28],\n",
       "        [ 5, 34],\n",
       "        [ 5, 34]]))"
      ]
     },
     "execution_count": 12,
     "metadata": {},
     "output_type": "execute_result"
    }
   ],
   "source": [
    "X_train.values[:10], X_test.values[:10]"
   ]
  },
  {
   "cell_type": "markdown",
   "id": "dd428cc9",
   "metadata": {},
   "source": [
    "## Scaling the Data"
   ]
  },
  {
   "cell_type": "code",
   "execution_count": 13,
   "id": "c29d607d",
   "metadata": {},
   "outputs": [
    {
     "data": {
      "text/plain": [
       "(array([[ 0.57147653, -1.04759303],\n",
       "        [ 0.57147653, -0.88044616],\n",
       "        [ 1.04134417, -0.54615241],\n",
       "        [-0.36825877, -0.54615241],\n",
       "        [ 0.57147653, -1.04759303],\n",
       "        [-0.83812641, -0.71329928],\n",
       "        [-1.30799406,  0.28958196],\n",
       "        [ 0.57147653, -0.88044616],\n",
       "        [ 0.10160888, -0.88044616],\n",
       "        [ 1.04134417, -0.71329928]]),\n",
       " array([[ 0.10160888, -1.2147399 ],\n",
       "        [ 1.51121182, -0.21185866],\n",
       "        [ 0.57147653, -1.2147399 ],\n",
       "        [ 1.04134417, -0.54615241],\n",
       "        [-1.77786171,  1.79390382],\n",
       "        [-0.36825877, -1.71618052],\n",
       "        [ 1.51121182, -0.04471179],\n",
       "        [ 1.04134417, -0.54615241],\n",
       "        [-0.36825877,  0.45672883],\n",
       "        [-0.36825877,  0.45672883]]))"
      ]
     },
     "execution_count": 13,
     "metadata": {},
     "output_type": "execute_result"
    }
   ],
   "source": [
    "scaler = StandardScaler()\n",
    "X_train = scaler.fit_transform(X_train)\n",
    "X_test = scaler.transform(X_test)\n",
    "X_train[:10], X_test[:10]"
   ]
  },
  {
   "cell_type": "markdown",
   "id": "838605a5",
   "metadata": {},
   "source": [
    "## Logistic Regression"
   ]
  },
  {
   "cell_type": "code",
   "execution_count": 14,
   "id": "fc0debce",
   "metadata": {},
   "outputs": [],
   "source": [
    "# initializing logistic regression model\n",
    "lr_model = LogisticRegression(n_jobs = -1)"
   ]
  },
  {
   "cell_type": "code",
   "execution_count": 15,
   "id": "645d5f4d",
   "metadata": {},
   "outputs": [
    {
     "data": {
      "text/plain": [
       "LogisticRegression(n_jobs=-1)"
      ]
     },
     "execution_count": 15,
     "metadata": {},
     "output_type": "execute_result"
    }
   ],
   "source": [
    "# fitting the model on train data\n",
    "lr_model.fit(X_train, y_train)"
   ]
  },
  {
   "cell_type": "code",
   "execution_count": 16,
   "id": "81ca67aa",
   "metadata": {},
   "outputs": [
    {
     "name": "stdout",
     "output_type": "stream",
     "text": [
      "Accuracy: 0.98\n",
      "====================================================================================================\n",
      "Classifiation Report\n",
      "              precision    recall  f1-score   support\n",
      "\n",
      "           0       1.00      0.96      0.98       105\n",
      "           1       0.96      1.00      0.98        95\n",
      "\n",
      "    accuracy                           0.98       200\n",
      "   macro avg       0.98      0.98      0.98       200\n",
      "weighted avg       0.98      0.98      0.98       200\n",
      "\n",
      "====================================================================================================\n"
     ]
    },
    {
     "data": {
      "image/png": "[encoded data removed]",
      "text/plain": [
       "<Figure size 504x360 with 2 Axes>"
      ]
     },
     "metadata": {
      "needs_background": "light"
     },
     "output_type": "display_data"
    }
   ],
   "source": [
    "# Generating the metrics to access the quality of our Logistic Regression Model\n",
    "lr_preds = lr_model.predict(X_test)\n",
    "\n",
    "print(f\"Accuracy: {accuracy_score(y_test, lr_preds)}\")\n",
    "\n",
    "print(\"==\"*50)\n",
    "print(\"Classifiation Report\")\n",
    "print(classification_report(y_test, lr_preds))\n",
    "\n",
    "print(\"==\"*50)\n",
    "plt.figure(figsize = (7,5))\n",
    "sns.heatmap(confusion_matrix(y_test, lr_preds), annot = True)\n",
    "plt.title(\"Confusion Matrix\")\n",
    "plt.xlabel(\"Actual\")\n",
    "plt.ylabel(\"Predicted\")\n",
    "plt.show()"
   ]
  },
  {
   "cell_type": "markdown",
   "id": "a59968c1",
   "metadata": {},
   "source": [
    "<center><h1>Hurray, You have successfully learnt Logistic Regression</h1></center>"
   ]
  }
 ],
 "metadata": {
  "kernelspec": {
   "display_name": "Python 3",
   "language": "python",
   "name": "python3"
  },
  "language_info": {
   "codemirror_mode": {
    "name": "ipython",
    "version": 3
   },
   "file_extension": ".py",
   "mimetype": "text/x-python",
   "name": "python",
   "nbconvert_exporter": "python",
   "pygments_lexer": "ipython3",
   "version": "3.8.8"
  }
 },
 "nbformat": 4,
 "nbformat_minor": 5
}
